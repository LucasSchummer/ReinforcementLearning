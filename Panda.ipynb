{
 "cells": [
  {
   "cell_type": "code",
   "execution_count": 1,
   "id": "6e34f89c",
   "metadata": {},
   "outputs": [],
   "source": [
    "import gymnasium as gym\n",
    "import panda_gym\n",
    "import numpy as np\n",
    "from agents.sac import SAC, ReplayBuffer\n",
    "from envs.panda_utils import generate_video, eval_model, save_plots\n",
    "from envs.utils import setup_training_dir\n",
    "import torch\n",
    "import time"
   ]
  },
  {
   "cell_type": "code",
   "execution_count": 2,
   "id": "570e0cdb",
   "metadata": {},
   "outputs": [
    {
     "name": "stdout",
     "output_type": "stream",
     "text": [
      "cpu\n"
     ]
    }
   ],
   "source": [
    "device = torch.device(\"cuda\" if torch.cuda.is_available() else \"cpu\")\n",
    "print(device) "
   ]
  },
  {
   "cell_type": "code",
   "execution_count": 3,
   "id": "ada32489",
   "metadata": {},
   "outputs": [
    {
     "name": "stdout",
     "output_type": "stream",
     "text": [
      "Dict('achieved_goal': Box(-10.0, 10.0, (3,), float32), 'desired_goal': Box(-10.0, 10.0, (3,), float32), 'observation': Box(-10.0, 10.0, (6,), float32))\n",
      "Box(-1.0, 1.0, (7,), float32)\n"
     ]
    }
   ],
   "source": [
    "env_name = 'PandaReachJoints-v3'\n",
    "version = \"v1\"\n",
    "max_episode_steps = 200\n",
    "env = gym.make(env_name, max_episode_steps=max_episode_steps)\n",
    "print(env.observation_space)\n",
    "print(env.action_space)"
   ]
  },
  {
   "cell_type": "code",
   "execution_count": 4,
   "id": "1654bdfe",
   "metadata": {},
   "outputs": [],
   "source": [
    "resume_training = True\n",
    "checkpoint = f\"training/sac/{env_name}/{version}/training2/500000.pth\"\n",
    "training_number = setup_training_dir(resume_training, \"sac\", env_name, version)\n",
    "\n",
    "max_training_time = 7 #h"
   ]
  },
  {
   "cell_type": "code",
   "execution_count": 5,
   "id": "46eaeef7",
   "metadata": {},
   "outputs": [],
   "source": [
    "obs_size = env.observation_space['observation'].shape[0] + env.observation_space['desired_goal'].shape[0]\n",
    "n_actions = env.action_space.shape[0]\n",
    "buffer_size = 1000000\n",
    "max_timesteps = 1000000\n",
    "max_timesteps = 500000\n",
    "alpha = .2\n",
    "gamma = .99\n",
    "tau = .005\n",
    "lr = 3e-4\n",
    "batch_size = 256\n",
    "warmup_timesteps = 500\n",
    "eval_frequency = 2000\n",
    "n_episodes_eval = 10\n",
    "checkpoint_frequency = 100000\n",
    "video_frequency = 50000"
   ]
  },
  {
   "cell_type": "code",
   "execution_count": 6,
   "id": "85c1e504",
   "metadata": {},
   "outputs": [],
   "source": [
    "model = SAC(obs_size, n_actions, buffer_size, alpha, gamma, tau, lr, device).to(device)"
   ]
  },
  {
   "cell_type": "code",
   "execution_count": 7,
   "id": "1905f10f",
   "metadata": {},
   "outputs": [],
   "source": [
    "if resume_training:\n",
    "    training_vars = model.load_state(checkpoint)\n",
    "    timestep_start, avg_returns = training_vars\n",
    "else:\n",
    "    timestep_start = 0\n",
    "    avg_returns = []"
   ]
  },
  {
   "cell_type": "code",
   "execution_count": 8,
   "id": "6d4ce05c",
   "metadata": {},
   "outputs": [
    {
     "name": "stdout",
     "output_type": "stream",
     "text": [
      "Average return after 500000 timesteps : -5.1\n"
     ]
    }
   ],
   "source": [
    "obs, info = env.reset()\n",
    "state = torch.tensor(np.concatenate([obs[\"observation\"], obs[\"desired_goal\"]]))\n",
    "start_time = time.time()\n",
    "\n",
    "for timestep in range(timestep_start, max_timesteps):\n",
    "\n",
    "    action = model.act(state)\n",
    "    obs, reward, terminated, truncated, info = env.step(action)\n",
    "    next_state = torch.tensor(np.concatenate([obs[\"observation\"], obs[\"desired_goal\"]]))\n",
    "    done = terminated or truncated\n",
    "\n",
    "    model.save_to_buffer([state, action, reward, next_state, terminated])\n",
    "\n",
    "    if timestep >= warmup_timesteps: # Update every timestep after warmup\n",
    "        model.update(batch_size)\n",
    "\n",
    "    state = next_state\n",
    "\n",
    "    if done:\n",
    "        obs, info = env.reset()\n",
    "\n",
    "    if (timestep + 1) % eval_frequency == 0:\n",
    "        avg_return = eval_model(model, env_name, max_episode_steps, n_episodes_eval)\n",
    "        print(f\"Average return after {timestep+1} timesteps : {avg_return}\")\n",
    "        avg_returns.append(avg_return)\n",
    "        save_plots(avg_returns, f\"training/sac/{env_name}/{version}/training{training_number}\", timestep+1, eval_frequency)\n",
    "\n",
    "    if (timestep + 1) % checkpoint_frequency == 0:\n",
    "        model.save_state(timestep, avg_returns, f\"training/sac/{env_name}/{version}/training{training_number}/{timestep+1}.pth\")\n",
    "\n",
    "    # if (timestep + 1) % video_frequency == 0:\n",
    "    #     generate_video(env_name, model, 1, \n",
    "    #            deterministic=True, \n",
    "    #            filename=f\"training/sac/{env_name}/{version}/training{training_number}/{timestep+1}.mp4\")\n",
    "        \n",
    "    if time.time() - start_time > 3600 * max_training_time:\n",
    "        print(f\"Maximum training time of {max_training_time}h exceeded. Interrupting training after {timestep} timesteps.\")\n",
    "        break "
   ]
  },
  {
   "cell_type": "code",
   "execution_count": 9,
   "id": "209e3597",
   "metadata": {},
   "outputs": [],
   "source": [
    "generate_video(env_name, max_episode_steps, model, 50, deterministic=True, \n",
    "               filename=f\"training/sac/{env_name}/{version}/training{training_number}/final.mp4\")"
   ]
  },
  {
   "cell_type": "code",
   "execution_count": 10,
   "id": "746f608e",
   "metadata": {},
   "outputs": [],
   "source": [
    "env.close()"
   ]
  }
 ],
 "metadata": {
  "kernelspec": {
   "display_name": "Python 3",
   "language": "python",
   "name": "python3"
  },
  "language_info": {
   "codemirror_mode": {
    "name": "ipython",
    "version": 3
   },
   "file_extension": ".py",
   "mimetype": "text/x-python",
   "name": "python",
   "nbconvert_exporter": "python",
   "pygments_lexer": "ipython3",
   "version": "3.9.13"
  }
 },
 "nbformat": 4,
 "nbformat_minor": 5
}
